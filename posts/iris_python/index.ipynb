{
  "cells": [
    {
      "cell_type": "raw",
      "metadata": {},
      "source": [
        "---\n",
        "title: Python - Iris Analysis and Visualization\n",
        "author: Bailie Wynbelt\n",
        "date: '2023-10-17'\n",
        "categories:\n",
        "  - Python\n",
        "  - Analysis\n",
        "  - Visualization\n",
        "image: iris.jpg\n",
        "format: html\n",
        "---"
      ],
      "id": "8a75b7f3"
    },
    {
      "cell_type": "markdown",
      "metadata": {},
      "source": [
        "I used the free Iris data set and python to conduct analysis and create visualizations\n",
        "\n",
        "## Importing and loading required packages\n",
        "\n",
        "The following code is importing both the pandas and matplotlib.pyplot package so specific functions can be used to analyze and visualize the data! Lets get started with exploring. It is important to note that these packages need to be installed first on your computer before you can run this\n"
      ],
      "id": "f3926ace"
    },
    {
      "cell_type": "code",
      "metadata": {},
      "source": [
        "import pandas as pd\n",
        "import matplotlib.pyplot as plt\n",
        "import seaborn as sns"
      ],
      "id": "88d32d69",
      "execution_count": null,
      "outputs": []
    },
    {
      "cell_type": "markdown",
      "metadata": {},
      "source": [
        "## Importing iris data set\n",
        "The iris data set is a free data set that is available! Below I am importing the data using the pd.read_csv function."
      ],
      "id": "4f7c90ab"
    },
    {
      "cell_type": "code",
      "metadata": {},
      "source": [
        "# Create column names for dataframe\n",
        "col_names = ['sepal_length_cm','sepal_width_cm','petal_length_cm','petal_width_cm','species']\n",
        "\n",
        "# Download data from url\n",
        "csv_url = 'https://archive.ics.uci.edu/ml/machine-learning-databases/iris/iris.data'\n",
        "\n",
        "# Import url using read_csv\n",
        "iris = pd.read_csv(csv_url, names = col_names)"
      ],
      "id": "68c2f312",
      "execution_count": null,
      "outputs": []
    },
    {
      "cell_type": "markdown",
      "metadata": {},
      "source": [
        "## Gaining a general oversight of the data\n",
        "\n",
        "The **head()** and **tail()** functions give a general oversight of what the data is comprised of in terms of rows and columns. Moreover, we can view the first and last 5 rows of data.\n"
      ],
      "id": "3c10c72e"
    },
    {
      "cell_type": "code",
      "metadata": {},
      "source": [
        "iris.head()\n",
        "iris.tail()"
      ],
      "id": "8c40807c",
      "execution_count": null,
      "outputs": []
    },
    {
      "cell_type": "markdown",
      "metadata": {},
      "source": [
        "Great! Now we know what our data looks like. However, I want to make sure the data format is okay. To do so, I am going to confirm the data types of iris using the .dtypes. function. We can now see that the columns are all floats except the species column. This looks all good!"
      ],
      "id": "8400b58e"
    },
    {
      "cell_type": "code",
      "metadata": {},
      "source": [
        "iris.dtypes"
      ],
      "id": "cd0d5120",
      "execution_count": null,
      "outputs": []
    },
    {
      "cell_type": "markdown",
      "metadata": {},
      "source": [
        "## Data tidying\n",
        "\n",
        "The following lines of code are tidying the data set. The code is looking to see if the data set have any NA's. We can now see that there is zero NA's. This means we do not need to drop any rows.\n"
      ],
      "id": "92cbb892"
    },
    {
      "cell_type": "code",
      "metadata": {},
      "source": [
        "iris.isna().sum().sum()"
      ],
      "id": "5e59ee4a",
      "execution_count": null,
      "outputs": []
    },
    {
      "cell_type": "markdown",
      "metadata": {},
      "source": [
        "## Data manipulation\n",
        "\n",
        "The following lines of code are manipulation the data set. The code is converting centimeters to millimeters. First, I created a function that converts from cm to mm and used .apply to apply to specific columns.\n"
      ],
      "id": "dbdbc907"
    },
    {
      "cell_type": "code",
      "metadata": {},
      "source": [
        "def cm_to_mm(cm):\n",
        "    return cm * 10\n",
        "\n",
        "iris['sepal_length_mm'] = iris['sepal_length_cm'].apply(cm_to_mm)\n",
        "iris['sepal_length_mm'] = iris['sepal_width_cm'].apply(cm_to_mm)\n",
        "iris['petal_length_mm'] = iris['petal_length_cm'].apply(cm_to_mm)\n",
        "\n",
        "iris"
      ],
      "id": "8e67ba2c",
      "execution_count": null,
      "outputs": []
    },
    {
      "cell_type": "markdown",
      "metadata": {},
      "source": [
        "## Data analysis of species\n",
        "\n",
        "Below are lines of code that are summarizing the data based on specific attributes. The following is grouping the data by flower species, and calculating the mean of sepal length, sepal width, and petal length. This data is added to a new data frame called **\"species_summary\"**. For the purpose of this question, we are only interested in using columns that contain data in cm.\n"
      ],
      "id": "d02f1a6c"
    },
    {
      "cell_type": "code",
      "metadata": {},
      "source": [
        "species_summary = iris.groupby('species').agg({\n",
        "    'sepal_length_cm': ['mean', 'min', 'max'],\n",
        "    'sepal_width_cm': ['mean', 'min', 'max'],\n",
        "    'petal_length_cm': ['mean', 'min', 'max']}).reset_index()\n",
        "\n",
        "\n",
        "species_summary.columns = ['species', \n",
        "'mean_sepal_length', 'min_sepal_length','max_sepal_length',\n",
        "'mean_sepal_width', 'min_sepal_width', 'max_sepal_width',\n",
        "'mean_petal_length', 'min_petal_length', 'max_petal_length']"
      ],
      "id": "961b2d93",
      "execution_count": null,
      "outputs": []
    },
    {
      "cell_type": "markdown",
      "metadata": {},
      "source": [
        "## Data visualization of sepal length vs sepal width of species\n",
        "\n",
        "Now, lets visualize the data! This will help us visualize if there are any notable differences in sepal length vs width of different Iris species. The code lines below are utilizing the **matlibplot** package to visualize the data. This data is a scatter plot with *sepal length* on the x-axis and *sepal width* on the y-axis, with the color of data points being differentiated by species Additionally, the graph is faceted by *species* of the penguins\n"
      ],
      "id": "970c67c7"
    },
    {
      "cell_type": "code",
      "metadata": {},
      "source": [
        "# Create colorblind friendly palette\n",
        "c_palette = [\"#377eb8\", \"#ff7f00\", \"#4daf4a\"]\n",
        "\n",
        "# Create plot\n",
        "iris_plot = sns.FacetGrid(iris, hue = \"species\", palette = c_palette)\n",
        "iris_plot.map(plt.scatter, \"sepal_length_cm\", \"sepal_width_cm\")\n",
        "\n",
        "# Add regression line\n",
        "iris_plot.map(sns.regplot, \"sepal_length_cm\", \"sepal_width_cm\", scatter = False)\n",
        "\n",
        "# Add legend\n",
        "iris_plot.add_legend(title=\"Iris Species:\", frameon = True, facecolor = \"lightgrey\")\n",
        "\n",
        "# Fix labels\n",
        "iris_plot.set_axis_labels(\"Sepal Length (cm)\", \"Sepal Width (cm)\")\n",
        "iris_plot.set_titles(\"Scatterplot with Linear Regression Lines by Species\")\n",
        "\n",
        "# Show the plot\n",
        "plt.show()"
      ],
      "id": "c1a0f9c2",
      "execution_count": null,
      "outputs": []
    }
  ],
  "metadata": {
    "kernelspec": {
      "display_name": "Python 3",
      "language": "python",
      "name": "python3"
    }
  },
  "nbformat": 4,
  "nbformat_minor": 5
}